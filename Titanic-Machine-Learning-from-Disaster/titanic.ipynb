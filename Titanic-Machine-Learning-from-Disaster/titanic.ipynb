{
 "cells": [
  {
   "attachments": {},
   "cell_type": "markdown",
   "metadata": {},
   "source": [
    "LEARNING FROM\n",
    "https://www.kaggle.com/code/startupsci/titanic-data-science-solutions\n"
   ]
  },
  {
   "cell_type": "code",
   "execution_count": null,
   "metadata": {},
   "outputs": [],
   "source": [
    "import numpy as np\n",
    "import pandas as pd\n",
    "import os"
   ]
  },
  {
   "attachments": {},
   "cell_type": "markdown",
   "metadata": {},
   "source": [
    "LOAD DATA"
   ]
  },
  {
   "cell_type": "code",
   "execution_count": null,
   "metadata": {},
   "outputs": [],
   "source": [
    "\n",
    "cwd = os.getcwd()\n",
    "# print(cwd)\n",
    "train_data = pd.read_csv(os.path.join(\n",
    "    cwd, \"Titanic-Machine-Learning-from-Disaster/input/train.csv\"\n",
    "))\n",
    "# test_data = pd.read_csv(\"Titanic-Machine-Learning-from-Disaster\\\\input\\\\test.csv\")\n",
    "test_data = pd.read_csv(os.path.join(\n",
    "    cwd, \"Titanic-Machine-Learning-from-Disaster/input/test.csv\"\n",
    "))\n",
    "\n",
    "combined = [train_data, test_data]"
   ]
  }
 ],
 "metadata": {
  "kernelspec": {
   "display_name": "Python 3",
   "language": "python",
   "name": "python3"
  },
  "language_info": {
   "name": "python",
   "version": "3.9.13"
  },
  "orig_nbformat": 4,
  "vscode": {
   "interpreter": {
    "hash": "c34b75c38e60cff7ed02370c8a2fc09566fe9919614ef84409fa39d8db21793f"
   }
  }
 },
 "nbformat": 4,
 "nbformat_minor": 2
}
