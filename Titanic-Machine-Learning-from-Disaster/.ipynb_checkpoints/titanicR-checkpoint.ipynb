{
 "cells": [
  {
   "cell_type": "markdown",
   "id": "a411ca3f",
   "metadata": {},
   "source": [
    "# Titanic - Machine Learning from Disaster - R"
   ]
  },
  {
   "cell_type": "code",
   "execution_count": 145,
   "id": "6c0de14a",
   "metadata": {},
   "outputs": [],
   "source": [
    "library(tidyverse)"
   ]
  },
  {
   "cell_type": "markdown",
   "id": "7266ff47",
   "metadata": {},
   "source": [
    "## LOAD DATA"
   ]
  },
  {
   "cell_type": "code",
   "execution_count": 146,
   "id": "9ae2645c",
   "metadata": {},
   "outputs": [],
   "source": [
    "train_data <- read_csv(\".\\\\input\\\\train.csv\")\n",
    "test_data <- read_csv(\".\\\\input\\\\test.csv\")"
   ]
  },
  {
   "cell_type": "markdown",
   "id": "d02e5a99",
   "metadata": {},
   "source": [
    "## A LOOK AT DATA"
   ]
  },
  {
   "cell_type": "code",
   "execution_count": 147,
   "id": "4e1e52d7",
   "metadata": {},
   "outputs": [],
   "source": [
    "train_data"
   ]
  },
  {
   "cell_type": "code",
   "execution_count": 148,
   "id": "db765737",
   "metadata": {},
   "outputs": [],
   "source": [
    "test_data"
   ]
  },
  {
   "cell_type": "code",
   "execution_count": 149,
   "id": "b2f275ed",
   "metadata": {},
   "outputs": [],
   "source": [
    "combined <- list(train_data, test_data)\n",
    "combined"
   ]
  },
  {
   "cell_type": "code",
   "execution_count": 150,
   "id": "9f5d2d7b",
   "metadata": {},
   "outputs": [],
   "source": [
    "# train_data%>%\n",
    "#     summarize_all(~sum(is.na(.)))\n",
    "summarize_all(train_data, ~sum(is.na(.)))\n",
    "## 很难相信r里的lambda是用~，不用lambda怎么传func捏"
   ]
  },
  {
   "cell_type": "markdown",
   "id": "36f52e87",
   "metadata": {},
   "source": [
    "## DESCRIBE DATA DESTRIBUTION"
   ]
  },
  {
   "cell_type": "code",
   "execution_count": 151,
   "id": "68def723",
   "metadata": {},
   "outputs": [],
   "source": [
    "summary(train_data)"
   ]
  },
  {
   "cell_type": "markdown",
   "id": "5ad5c198",
   "metadata": {},
   "source": [
    "## SOME ASSUMPTIONS PROVIDED WITH THE DATASET\n",
    "- Women (Sex=female) were more likely to have survived\n",
    "- Children (Age < ?) were more likely to have survived\n",
    "- The upper-class passengers (Pclass=1) were more likely to have survived"
   ]
  },
  {
   "cell_type": "code",
   "execution_count": 152,
   "id": "e8e6ec08",
   "metadata": {},
   "outputs": [],
   "source": [
    "train_data %>%\n",
    "#     select(Pclass, Survived) %>%\n",
    "    group_by(Pclass)%>%\n",
    "    summarize(Survived = mean(Survived))"
   ]
  },
  {
   "cell_type": "code",
   "execution_count": 153,
   "id": "80eac59c",
   "metadata": {},
   "outputs": [],
   "source": [
    "train_data %>%\n",
    "    group_by(Sex) %>%\n",
    "    summarize(Survived = mean(Survived))"
   ]
  },
  {
   "cell_type": "code",
   "execution_count": 154,
   "id": "d5406967",
   "metadata": {},
   "outputs": [],
   "source": [
    "train_data %>%\n",
    "    group_by(SibSp) %>%\n",
    "    summarize(Survived = mean(Survived))"
   ]
  },
  {
   "cell_type": "code",
   "execution_count": 155,
   "id": "a280cd71",
   "metadata": {},
   "outputs": [],
   "source": [
    "train_data %>%\n",
    "    group_by(Parch) %>%\n",
    "    summarize(Survived = mean(Survived))"
   ]
  },
  {
   "cell_type": "markdown",
   "id": "7f5aac80",
   "metadata": {},
   "source": [
    "## SOME VISUALIZATIONS\n",
    "- to show relationships between variables"
   ]
  },
  {
   "cell_type": "markdown",
   "id": "03c12892",
   "metadata": {},
   "source": [
    "### Visualizing numerical variable (Age)"
   ]
  },
  {
   "cell_type": "code",
   "execution_count": 156,
   "id": "5328ef5f",
   "metadata": {},
   "outputs": [],
   "source": [
    "train_data %>%\n",
    "    ggplot() +\n",
    "    geom_histogram(mapping=aes(x=Age), binwidth=3)+\n",
    "    facet_wrap(vars(Survived), nrow=2)"
   ]
  },
  {
   "cell_type": "markdown",
   "id": "47ca37df",
   "metadata": {},
   "source": [
    "### Visualizing ordinal variable (Pclass)"
   ]
  },
  {
   "cell_type": "code",
   "execution_count": 142,
   "id": "02d5713d",
   "metadata": {},
   "outputs": [],
   "source": [
    "train_data %>%\n",
    "    ggplot() +\n",
    "    geom_histogram(mapping=aes(x=Age), binwidth=3)+\n",
    "    facet_grid(rows=vars(Pclass), cols=vars(Survived))"
   ]
  },
  {
   "cell_type": "markdown",
   "id": "d6c2a41c",
   "metadata": {},
   "source": [
    "### Visualizing categorical variable (Embarked)"
   ]
  },
  {
   "cell_type": "markdown",
   "id": "3bbb05ec",
   "metadata": {},
   "source": [
    "- Plots here are accurate, plot for `Embarked == 'C'` in Py version is wrong with the color."
   ]
  },
  {
   "cell_type": "code",
   "execution_count": 143,
   "id": "e125919f",
   "metadata": {},
   "outputs": [],
   "source": [
    "train_data %>%\n",
    "    filter(!is.na(Embarked))%>%\n",
    "#     filter(Embarked == 'C') %>%\n",
    "#     filter(Sex == \"male\") %>%\n",
    "#     filter(Pclass == 2)\n",
    "    group_by(Embarked, Pclass, Sex) %>%\n",
    "    summarize(Survived = mean(Survived)) %>%\n",
    "    ggplot() +\n",
    "    geom_point(mapping=aes(x=Pclass, y=Survived, color=Sex))+\n",
    "    geom_line(mapping=aes(x=Pclass, y=Survived, color=Sex))+\n",
    "    facet_wrap(vars(Embarked), nrow=3)"
   ]
  },
  {
   "cell_type": "markdown",
   "id": "4ec32616",
   "metadata": {},
   "source": [
    "### Correlate categorical features and numeric features\n",
    "- 没什么用的图，不画了"
   ]
  },
  {
   "cell_type": "markdown",
   "id": "6702da0d",
   "metadata": {},
   "source": [
    "## DROP SOME VARIABLES (Ticket, Cabin)\n",
    "- messy data, and not really useful"
   ]
  },
  {
   "cell_type": "code",
   "execution_count": 144,
   "id": "a96d0e43",
   "metadata": {},
   "outputs": [],
   "source": [
    "train_data = train_data %>% select(-Ticket, -Cabin)\n",
    "train_data"
   ]
  },
  {
   "cell_type": "code",
   "execution_count": null,
   "id": "5bb47818",
   "metadata": {},
   "outputs": [],
   "source": []
  },
  {
   "cell_type": "code",
   "execution_count": null,
   "id": "8d026880",
   "metadata": {},
   "outputs": [],
   "source": []
  }
 ],
 "metadata": {
  "kernelspec": {
   "display_name": "R",
   "language": "R",
   "name": "ir"
  },
  "language_info": {
   "codemirror_mode": "r",
   "file_extension": ".r",
   "mimetype": "text/x-r-source",
   "name": "R",
   "pygments_lexer": "r",
   "version": "4.2.2"
  }
 },
 "nbformat": 4,
 "nbformat_minor": 5
}
